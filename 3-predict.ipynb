{
 "cells": [
  {
   "cell_type": "code",
   "execution_count": 1,
   "metadata": {},
   "outputs": [],
   "source": [
    "import pandas as pd\n",
    "from sklearn.preprocessing import LabelEncoder, StandardScaler, MinMaxScaler\n",
    "from sklearn.model_selection import train_test_split\n",
    "from sklearn.pipeline import Pipeline\n",
    "from sklearn.neural_network import MLPClassifier\n",
    "from sklearn.ensemble import RandomForestClassifier, VotingClassifier, GradientBoostingClassifier\n",
    "from sklearn.metrics import accuracy_score\n",
    "from sklearn.linear_model import LogisticRegression, RidgeClassifier\n",
    "from sklearn.neighbors import KNeighborsClassifier\n",
    "from sklearn.feature_extraction.text import TfidfVectorizer\n",
    "import pickle \n",
    "import numpy as np\n"
   ]
  },
  {
   "cell_type": "code",
   "execution_count": 2,
   "metadata": {},
   "outputs": [],
   "source": [
    "\n",
    "# Load the DataFrame from the pickle file\n",
    "submissions = pd.read_pickle('output/openai_embedded_large.pkl')\n"
   ]
  },
  {
   "cell_type": "code",
   "execution_count": 3,
   "metadata": {},
   "outputs": [],
   "source": [
    "\n",
    "# Preprocess the labels\n",
    "label_encoder = LabelEncoder()\n",
    "\n",
    "submissions['link_flair_text'] = label_encoder.fit_transform(submissions['link_flair_text'])\n",
    "num_classes = len(label_encoder.classes_)\n"
   ]
  },
  {
   "cell_type": "code",
   "execution_count": 4,
   "metadata": {},
   "outputs": [],
   "source": [
    "\n",
    "# Convert the embeddings and labels to arrays\n",
    "X = np.stack(submissions['embedding'].values)\n",
    "y = submissions['link_flair_text'].values\n",
    "\n",
    "# Split the data into training and testing sets\n",
    "X_train, X_test, y_train, y_test = train_test_split(X, y, test_size=0.2,)\n"
   ]
  },
  {
   "cell_type": "code",
   "execution_count": 6,
   "metadata": {},
   "outputs": [
    {
     "name": "stdout",
     "output_type": "stream",
     "text": [
      "Accuracy of the model on the train set: 75.86%\n",
      "Accuracy of the model on the test set: 72.66%\n"
     ]
    }
   ],
   "source": [
    "mlp = Pipeline([\n",
    "    ('mlp', MLPClassifier(hidden_layer_sizes=(40,20),\n",
    "                        solver='adam',\n",
    "                        max_iter=1000, \n",
    "                        learning_rate='constant' ,\n",
    "                        early_stopping=True ,\n",
    "                        validation_fraction=0.2),\n",
    "                        )\n",
    "])\n",
    "\n",
    "rf = Pipeline([\n",
    "    ('rf', RandomForestClassifier(n_estimators=150,max_depth=6 , min_samples_leaf=30, criterion='gini'))\n",
    "])\n",
    "\n",
    "lr =  Pipeline([\n",
    "    ('lr', LogisticRegression(max_iter=1000))\n",
    "])\n",
    "\n",
    "\n",
    "\n",
    "# Define the ensemble model\n",
    "ensemble = VotingClassifier(estimators=[\n",
    "    ('mlp', mlp),\n",
    "    ('rf' , rf),\n",
    "    ('lr' , lr),\n",
    "\n",
    "], voting='hard')\n",
    "\n",
    "ensemble.fit(X_train, y_train)\n",
    "\n",
    "# Make predictions on the test set\n",
    "y_pred_train = ensemble.predict(X_train)\n",
    "y_pred_test = ensemble.predict(X_test)\n",
    "\n",
    "# Evaluate the model\n",
    "accuracy_train = accuracy_score(y_train, y_pred_train)\n",
    "accuracy_test = accuracy_score(y_test, y_pred_test)\n",
    "\n",
    "print(f'Accuracy of the model on the train set: {accuracy_train * 100:.2f}%')\n",
    "print(f'Accuracy of the model on the test set: {accuracy_test * 100:.2f}%')\n",
    "\n",
    "\n",
    "with open('ensemble.pkl' , 'wb') as file:\n",
    "    pickle.dump(ensemble , file)"
   ]
  },
  {
   "cell_type": "code",
   "execution_count": 8,
   "metadata": {},
   "outputs": [
    {
     "name": "stdout",
     "output_type": "stream",
     "text": [
      "Accuracy of the model on the test set: 64.73%\n"
     ]
    }
   ],
   "source": [
    "# Define the model\n",
    "knn_model = KNeighborsClassifier(n_neighbors=100) \n",
    "# Train the model\n",
    "knn_model.fit(X_train, y_train)\n",
    "\n",
    "# Make predictions on the test set\n",
    "y_pred = knn_model.predict(X_test)\n",
    "# Evaluate the model\n",
    "accuracy = accuracy_score(y_test, y_pred)\n",
    "print(f'Accuracy of the model on the test set: {accuracy * 100:.2f}%')\n"
   ]
  },
  {
   "cell_type": "code",
   "execution_count": 9,
   "metadata": {},
   "outputs": [
    {
     "name": "stdout",
     "output_type": "stream",
     "text": [
      "Accuracy of the model on the train set: 71.22%\n",
      "Accuracy of the model on the test set: 66.31%\n"
     ]
    }
   ],
   "source": [
    "\n",
    "\n",
    "model = Pipeline([\n",
    "    ('gb', GradientBoostingClassifier(n_estimators=50,)) # choose a small number here , any large number will take a very long time \n",
    "])\n",
    "\n",
    "\n",
    "model.fit(X_train, y_train)\n",
    "\n",
    "# Make predictions on the test set\n",
    "y_pred_train = model.predict(X_train)\n",
    "y_pred_test = model.predict(X_test)\n",
    "\n",
    "# Evaluate the model\n",
    "accuracy_train = accuracy_score(y_train, y_pred_train)\n",
    "accuracy_test = accuracy_score(y_test, y_pred_test)\n",
    "\n",
    "print(f'Accuracy of the model on the train set: {accuracy_train * 100:.2f}%')\n",
    "print(f'Accuracy of the model on the test set: {accuracy_test * 100:.2f}%')"
   ]
  },
  {
   "cell_type": "code",
   "execution_count": 10,
   "metadata": {},
   "outputs": [
    {
     "name": "stdout",
     "output_type": "stream",
     "text": [
      "Accuracy of the model on the train set: 73.09%\n",
      "Accuracy of the model on the test set: 65.78%\n"
     ]
    }
   ],
   "source": [
    "model = Pipeline([\n",
    "    ('rf', RandomForestClassifier(n_estimators=150,max_depth=6 , min_samples_leaf=30, criterion='entropy'))\n",
    "])\n",
    "\n",
    "# Train the model\n",
    "model.fit(X_train, y_train)\n",
    "\n",
    "\n",
    "# Make predictions on the test set\n",
    "y_pred_train = model.predict(X_train)\n",
    "y_pred_test = model.predict(X_test)\n",
    "# Evaluate the model\n",
    "accuracy_train = accuracy_score(y_train, y_pred_train)\n",
    "accuracy_test = accuracy_score(y_test, y_pred_test)\n",
    "\n",
    "print(f'Accuracy of the model on the train set: {accuracy_train * 100:.2f}%')\n",
    "print(f'Accuracy of the model on the test set: {accuracy_test * 100:.2f}%')\n",
    "\n"
   ]
  },
  {
   "cell_type": "code",
   "execution_count": 3,
   "metadata": {},
   "outputs": [
    {
     "name": "stdout",
     "output_type": "stream",
     "text": [
      "Accuracy of the model on the train set: 73.78%\n",
      "Accuracy of the model on the test set: 62.65%\n"
     ]
    }
   ],
   "source": [
    "X = submissions['selftext'].values # NOT the embeddings this time\n",
    "y = submissions['link_flair_text'].values\n",
    "\n",
    "# Split the data into training and testing sets\n",
    "X_train, X_test, y_train, y_test = train_test_split(X, y, test_size=0.2,)\n",
    "\n",
    "\n",
    "# Define the pipeline\n",
    "model = Pipeline([\n",
    "    ('tfidf', TfidfVectorizer()), # gets features out of text (like our embeddings) \n",
    "    ('mlp', MLPClassifier(hidden_layer_sizes=(30,20),\n",
    "                        activation='logistic',\n",
    "                        solver='adam',\n",
    "                        max_iter=1000, \n",
    "                        learning_rate='constant' ,\n",
    "                        early_stopping=True ,\n",
    "                        validation_fraction=0.2),\n",
    "                        )\n",
    "])\n",
    "\n",
    "# Train the model\n",
    "model.fit(X_train, y_train)\n",
    "\n",
    "# Make predictions on the test set\n",
    "y_pred_train = model.predict(X_train)\n",
    "y_pred_test = model.predict(X_test)\n",
    "# Evaluate the model\n",
    "accuracy_train = accuracy_score(y_train, y_pred_train)\n",
    "accuracy_test = accuracy_score(y_test, y_pred_test)\n",
    "\n",
    "print(f'Accuracy of the model on the train set: {accuracy_train * 100:.2f}%')\n",
    "print(f'Accuracy of the model on the test set: {accuracy_test * 100:.2f}%')\n",
    "\n",
    "\n",
    "\n",
    "# re fill our x and y with the embeddings\n",
    "X = np.stack(submissions['embedding'].values)\n",
    "y = submissions['link_flair_text'].values\n",
    "\n",
    "\n",
    "X_train, X_test, y_train, y_test = train_test_split(X, y, test_size=0.2,)\n",
    "\n",
    "\n"
   ]
  }
 ],
 "metadata": {
  "kernelspec": {
   "display_name": "myenv",
   "language": "python",
   "name": "python3"
  },
  "language_info": {
   "codemirror_mode": {
    "name": "ipython",
    "version": 3
   },
   "file_extension": ".py",
   "mimetype": "text/x-python",
   "name": "python",
   "nbconvert_exporter": "python",
   "pygments_lexer": "ipython3",
   "version": "3.12.3"
  }
 },
 "nbformat": 4,
 "nbformat_minor": 2
}
